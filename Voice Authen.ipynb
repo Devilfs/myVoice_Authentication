{
 "cells": [
  {
   "cell_type": "markdown",
   "metadata": {},
   "source": [
    "## Voice Authentication Modules"
   ]
  },
  {
   "cell_type": "code",
   "execution_count": 1,
   "metadata": {},
   "outputs": [],
   "source": [
    "import numpy as np\n",
    "import os\n",
    "import glob\n",
    "import pickle\n",
    "import csv\n",
    "import time\n",
    "import pandas as pd\n",
    "# import SpeechRecognition as sr1\n",
    "\n",
    "import pyaudio\n",
    "from IPython.display import Audio, display, clear_output\n",
    "import wave\n",
    "from scipy.io.wavfile import read\n",
    "from sklearn.mixture import GaussianMixture \n",
    "import warnings\n",
    "warnings.filterwarnings(\"ignore\")\n",
    "\n",
    "from sklearn import preprocessing\n",
    "import python_speech_features as mfcc\n",
    "\n",
    "#Create or import the list of users\n",
    "users = []\n",
    "if os.path.exists('./user_database/userLists.csv'):\n",
    "    user_database = pd.read_csv('./user_database/userLists.csv', encoding='latin-1')\n",
    "    users = user_database.values.tolist()\n",
    "# print(users)"
   ]
  },
  {
   "cell_type": "markdown",
   "metadata": {},
   "source": [
    "## Main program"
   ]
  },
  {
   "cell_type": "code",
   "execution_count": 2,
   "metadata": {},
   "outputs": [
    {
     "name": "stdout",
     "output_type": "stream",
     "text": [
      "Welcome to our Voice Authunticator\n",
      "Select an appropriate option\n",
      "1.Add user \n",
      " 2.Delete user \n",
      " 3.Check the existing user \n",
      " 4.Authenticate yourself\n"
     ]
    },
    {
     "ename": "NameError",
     "evalue": "name 'check_user' is not defined",
     "output_type": "error",
     "traceback": [
      "\u001b[1;31m---------------------------------------------------------------------------\u001b[0m",
      "\u001b[1;31mNameError\u001b[0m                                 Traceback (most recent call last)",
      "Cell \u001b[1;32mIn[2], line 11\u001b[0m\n\u001b[0;32m      9\u001b[0m     delete_user()\n\u001b[0;32m     10\u001b[0m \u001b[38;5;28;01mcase\u001b[39;00m \u001b[38;5;241m3\u001b[39m :\n\u001b[1;32m---> 11\u001b[0m     \u001b[43mcheck_user\u001b[49m()\n\u001b[0;32m     12\u001b[0m \u001b[38;5;28;01mcase\u001b[39;00m \u001b[38;5;241m4\u001b[39m :\n\u001b[0;32m     13\u001b[0m     recognize()\n",
      "\u001b[1;31mNameError\u001b[0m: name 'check_user' is not defined"
     ]
    }
   ],
   "source": [
    "print('Welcome to our Voice Authunticator')\n",
    "print('Select an appropriate option')\n",
    "print('1.Add user \\n 2.Delete user \\n 3.Check the existing user \\n 4.Authenticate yourself')\n",
    "val=int(input(\"enter the option\"))\n",
    "match val :\n",
    "    case 1 :\n",
    "        add_user()\n",
    "    case 2 :\n",
    "        delete_user()\n",
    "    case 3 :\n",
    "        check_user()\n",
    "    case 4 :\n",
    "        recognize()\n"
   ]
  },
  {
   "cell_type": "markdown",
   "metadata": {},
   "source": [
    "## Audio processing"
   ]
  },
  {
   "cell_type": "code",
   "execution_count": 3,
   "metadata": {},
   "outputs": [],
   "source": [
    "#Calculate and returns the delta of given feature vector matrix\n",
    "def calculate_delta(array):\n",
    "    rows,cols = array.shape\n",
    "    deltas = np.zeros((rows,20))\n",
    "    N = 2\n",
    "    for i in range(rows):\n",
    "        index = []\n",
    "        j = 1\n",
    "        while j <= N:\n",
    "            if i-j < 0:\n",
    "                first = 0\n",
    "            else:\n",
    "                first = i-j\n",
    "            if i+j > rows -1:\n",
    "                second = rows -1\n",
    "            else:\n",
    "                second = i+j\n",
    "            index.append((second,first))\n",
    "            j+=1\n",
    "        deltas[i] = ( array[index[0][0]]-array[index[0][1]] + (2 * (array[index[1][0]]-array[index[1][1]])) ) / 10\n",
    "    return deltas\n",
    "\n",
    "#convert audio to mfcc features\n",
    "def extract_features(audio,rate):    \n",
    "    mfcc_feat = mfcc.mfcc(audio,rate, 0.025, 0.01, 20, appendEnergy = True, nfft=1103)\n",
    "    mfcc_feat = preprocessing.scale(mfcc_feat)\n",
    "    delta = calculate_delta(mfcc_feat)\n",
    "\n",
    "    #combining both mfcc features and delta\n",
    "    combined = np.hstack((mfcc_feat,delta)) \n",
    "    return combined\n",
    "\n",
    "#save the username in csv file\n",
    "def userLists_CSV(lists):\n",
    "    with open('./user_database/userLists.csv', 'w', newline='') as file:\n",
    "        header = ['Username']\n",
    "        film_writer = csv.writer(file)\n",
    "        film_writer.writerow(header)\n",
    "        film_writer.writerows(lists)\n",
    "    file.close"
   ]
  },
  {
   "cell_type": "markdown",
   "metadata": {},
   "source": [
    "## Add a New User"
   ]
  },
  {
   "cell_type": "code",
   "execution_count": 4,
   "metadata": {},
   "outputs": [
    {
     "name": "stdout",
     "output_type": "stream",
     "text": [
      "Recording...\n",
      "Done\n",
      "Speak your name one more time\n",
      "Recording...\n",
      "Done\n",
      "Speak your name one last time\n",
      "Recording...\n",
      "Done\n",
      "hi added successfully\n"
     ]
    }
   ],
   "source": [
    "def add_user():\n",
    "    \n",
    "    name = input(\"Enter Name:\")\n",
    "#     password = input(\"Enter Password:\")\n",
    "     \n",
    "    #Voice authentication\n",
    "    FORMAT = pyaudio.paInt16\n",
    "    CHANNELS = 2\n",
    "    RATE = 44100\n",
    "    CHUNK = 1024\n",
    "    RECORD_SECONDS = 5\n",
    "    \n",
    "    source = \"./voice_database/\" + name\n",
    "    \n",
    "   \n",
    "    os.mkdir(source)\n",
    "\n",
    "    for i in range(3):\n",
    "        audio = pyaudio.PyAudio()\n",
    "\n",
    "        if i == 0:\n",
    "            j = 3\n",
    "            while j>=0:\n",
    "                time.sleep(1.0)\n",
    "                print(\"Speak your name in {} seconds\".format(j))\n",
    "                clear_output(wait=True)\n",
    "\n",
    "                j-=1\n",
    "\n",
    "        elif i ==1:\n",
    "            print(\"Speak your name one more time\")\n",
    "            time.sleep(0.5)\n",
    "\n",
    "        else:\n",
    "            print(\"Speak your name one last time\")\n",
    "            time.sleep(0.5)\n",
    "\n",
    "        # start Recording\n",
    "        stream = audio.open(format=FORMAT, channels=CHANNELS, rate=RATE, input=True, frames_per_buffer=CHUNK)\n",
    "\n",
    "        print(\"Recording...\")\n",
    "        frames = []\n",
    "\n",
    "        for _ in range(0, int(RATE / CHUNK * RECORD_SECONDS)):\n",
    "            data = stream.read(CHUNK)\n",
    "            frames.append(data)\n",
    "\n",
    "        # stop Recording\n",
    "        stream.stop_stream()\n",
    "        stream.close()\n",
    "        audio.terminate()\n",
    "        \n",
    "        # saving wav file of speaker\n",
    "        waveFile = wave.open(source + '/' + str((i+1)) + '.wav', 'wb')\n",
    "        waveFile.setnchannels(CHANNELS)\n",
    "        waveFile.setsampwidth(audio.get_sample_size(FORMAT))\n",
    "        waveFile.setframerate(RATE)\n",
    "        waveFile.writeframes(b''.join(frames))\n",
    "        waveFile.close()\n",
    "        print(\"Done\")\n",
    "\n",
    "    dest =  \"./gmm_models/\"\n",
    "    count = 1\n",
    "\n",
    "    for path in os.listdir(source):\n",
    "        path = os.path.join(source, path)\n",
    "\n",
    "        features = np.array([])\n",
    "        \n",
    "        # reading audio files of speaker\n",
    "        (sr, audio) = read(path)\n",
    "        \n",
    "        # extract 40 dimensional MFCC & delta MFCC features\n",
    "        vector   = extract_features(audio,sr)\n",
    "\n",
    "        if features.size == 0:\n",
    "            features = vector\n",
    "        else:\n",
    "            features = np.vstack((features, vector))\n",
    "            \n",
    "        # when features of 3 files of speaker are concatenated, then do model training\n",
    "        if count == 3:    \n",
    "            gmm = GaussianMixture(n_components = 16, max_iter = 200, covariance_type='diag', n_init = 3)\n",
    "            gmm.fit(features)\n",
    "\n",
    "            # saving the trained gaussian model\n",
    "            pickle.dump(gmm, open(dest + name + '.gmm', 'wb'))\n",
    "            users.append([name])\n",
    "            userLists_CSV(users)\n",
    "            \n",
    "            print(name + ' added successfully') \n",
    "            features = np.asarray(())\n",
    "            count = 0\n",
    "        count = count + 1\n",
    "\n",
    "add_user()"
   ]
  },
  {
   "cell_type": "markdown",
   "metadata": {},
   "source": [
    "## Check User"
   ]
  },
  {
   "cell_type": "code",
   "execution_count": 10,
   "metadata": {},
   "outputs": [
    {
     "name": "stdout",
     "output_type": "stream",
     "text": [
      "No such user !!\n"
     ]
    }
   ],
   "source": [
    "# checks a registered user from database\n",
    "def check_user():\n",
    "    name = input(\"Enter name of the user:\")\n",
    "\n",
    "    if any(list[0] == name for list in users):\n",
    "        print('User ' + name + ' exists')\n",
    "    else:\n",
    "        print('No such user !!')\n",
    "\n",
    "check_user()"
   ]
  },
  {
   "cell_type": "markdown",
   "metadata": {},
   "source": [
    "## Delete User"
   ]
  },
  {
   "cell_type": "code",
   "execution_count": 12,
   "metadata": {},
   "outputs": [
    {
     "ename": "ValueError",
     "evalue": "list.remove(x): x not in list",
     "output_type": "error",
     "traceback": [
      "\u001b[1;31m---------------------------------------------------------------------------\u001b[0m",
      "\u001b[1;31mValueError\u001b[0m                                Traceback (most recent call last)",
      "Cell \u001b[1;32mIn[12], line 17\u001b[0m\n\u001b[0;32m     14\u001b[0m     \u001b[38;5;28;01melse\u001b[39;00m:\n\u001b[0;32m     15\u001b[0m         \u001b[38;5;28mprint\u001b[39m(\u001b[38;5;124m'\u001b[39m\u001b[38;5;124mNo such user !!\u001b[39m\u001b[38;5;124m'\u001b[39m)\n\u001b[1;32m---> 17\u001b[0m \u001b[43mdelete_user\u001b[49m\u001b[43m(\u001b[49m\u001b[43m)\u001b[49m\n",
      "Cell \u001b[1;32mIn[12], line 10\u001b[0m, in \u001b[0;36mdelete_user\u001b[1;34m()\u001b[0m\n\u001b[0;32m      8\u001b[0m os\u001b[38;5;241m.\u001b[39mremovedirs(\u001b[38;5;124m'\u001b[39m\u001b[38;5;124m./voice_database/\u001b[39m\u001b[38;5;124m'\u001b[39m \u001b[38;5;241m+\u001b[39m name)\n\u001b[0;32m      9\u001b[0m os\u001b[38;5;241m.\u001b[39mremove(\u001b[38;5;124m'\u001b[39m\u001b[38;5;124m./gmm_models/\u001b[39m\u001b[38;5;124m'\u001b[39m \u001b[38;5;241m+\u001b[39m name \u001b[38;5;241m+\u001b[39m \u001b[38;5;124m'\u001b[39m\u001b[38;5;124m.gmm\u001b[39m\u001b[38;5;124m'\u001b[39m)\n\u001b[1;32m---> 10\u001b[0m \u001b[43musers\u001b[49m\u001b[38;5;241;43m.\u001b[39;49m\u001b[43mremove\u001b[49m\u001b[43m(\u001b[49m\u001b[38;5;28;43mlist\u001b[39;49m\u001b[43m)\u001b[49m\n\u001b[0;32m     11\u001b[0m userLists_CSV(users)\n\u001b[0;32m     13\u001b[0m \u001b[38;5;28mprint\u001b[39m(\u001b[38;5;124m'\u001b[39m\u001b[38;5;124mUser \u001b[39m\u001b[38;5;124m'\u001b[39m \u001b[38;5;241m+\u001b[39m name \u001b[38;5;241m+\u001b[39m \u001b[38;5;124m'\u001b[39m\u001b[38;5;124m deleted successfully\u001b[39m\u001b[38;5;124m'\u001b[39m)\n",
      "\u001b[1;31mValueError\u001b[0m: list.remove(x): x not in list"
     ]
    }
   ],
   "source": [
    "\n",
    "# deletes a registered user from database\n",
    "def delete_user():\n",
    "    name = input(\"Enter name of the user:\")\n",
    "\n",
    "    if any(list[0] == name for list in users):\n",
    "        # remove the speaker wav files and gmm model\n",
    "        [os.remove(path) for path in glob.glob('./voice_database/' + name + '/*')]\n",
    "        os.removedirs('./voice_database/' + name)\n",
    "        os.remove('./gmm_models/' + name + '.gmm')\n",
    "        users.remove(list)\n",
    "        userLists_CSV(users)\n",
    "        \n",
    "        print('User ' + name + ' deleted successfully')\n",
    "    else:\n",
    "        print('No such user !!')\n",
    "\n",
    "delete_user()"
   ]
  },
  {
   "cell_type": "markdown",
   "metadata": {},
   "source": [
    "## Voice Authentication"
   ]
  },
  {
   "cell_type": "code",
   "execution_count": null,
   "metadata": {},
   "outputs": [
    {
     "name": "stdout",
     "output_type": "stream",
     "text": [
      "Recording...\n",
      "Finished recording\n",
      "-32.505164784099144\n",
      "-28.741775218553947\n",
      "-30.72125305229083\n",
      "-28.007565459387237\n",
      "-24.799831792944346\n",
      "-30.69807195365177\n",
      "-26.03775955305402\n",
      "-38.7251591356827\n",
      "-34.20532048218216\n",
      "-32.90839289091053\n",
      "-26.391229460959927\n",
      "-27.17930398046238\n",
      "-29.27334874064321\n",
      "Recognized as -  devops\n",
      "['adarsh', 'anthonyschaller', 'Apple_Eater', 'Ara', 'devops', 'jaya', 'katam', 'Krittin Chatrinan', 'nikhil', 'somchai', 'surendra', 'tarak', 'uday']\n",
      "[-32.50516478 -28.74177522 -30.72125305 -28.00756546 -24.79983179\n",
      " -30.69807195 -26.03775955 -38.72515914 -34.20532048 -32.90839289\n",
      " -26.39122946 -27.17930398 -29.27334874]\n"
     ]
    }
   ],
   "source": [
    "def recognize():\n",
    "    # Voice Authentication\n",
    "    FORMAT = pyaudio.paInt16\n",
    "    CHANNELS = 2\n",
    "    RATE = 44100\n",
    "    CHUNK = 1024\n",
    "    RECORD_SECONDS = 5\n",
    "    FILENAME = \"./test.wav\"\n",
    "\n",
    "    audio = pyaudio.PyAudio()\n",
    "   \n",
    "    # start Recording\n",
    "    stream = audio.open(format=FORMAT, channels=CHANNELS,\n",
    "                    rate=RATE, input=True,\n",
    "                    frames_per_buffer=CHUNK)\n",
    "\n",
    "    print(\"Recording...\")\n",
    "    frames = []\n",
    "\n",
    "    for i in range(0, int(RATE / CHUNK * RECORD_SECONDS)):\n",
    "        data = stream.read(CHUNK)\n",
    "        frames.append(data)\n",
    "    print(\"Finished recording\")\n",
    "\n",
    "\n",
    "    # stop Recording\n",
    "    stream.stop_stream()\n",
    "    stream.close()\n",
    "    audio.terminate()\n",
    "\n",
    "    # saving wav file \n",
    "    waveFile = wave.open(FILENAME, 'wb')\n",
    "    waveFile.setnchannels(CHANNELS)\n",
    "    waveFile.setsampwidth(audio.get_sample_size(FORMAT))\n",
    "    waveFile.setframerate(RATE)\n",
    "    waveFile.writeframes(b''.join(frames))\n",
    "    waveFile.close()\n",
    "\n",
    "    modelpath = \"./gmm_models/\"\n",
    "\n",
    "    gmm_files = [os.path.join(modelpath,fname) for fname in \n",
    "                os.listdir(modelpath) if fname.endswith('.gmm')]\n",
    "\n",
    "    models    = [pickle.load(open(fname,'rb')) for fname in gmm_files]\n",
    "\n",
    "    speakers   = [fname.split(\"/\")[-1].split(\".gmm\")[0] for fname \n",
    "                in gmm_files]\n",
    "  \n",
    "    if len(models) == 0:\n",
    "        print(\"No Users in the Database!\")\n",
    "        return\n",
    "        \n",
    "    #read test file\n",
    "    sr,audio = read(FILENAME)\n",
    "    \n",
    "    # extract mfcc features\n",
    "    vector = extract_features(audio,sr)\n",
    "    log_likelihood = np.zeros(len(models)) \n",
    "\n",
    "    #checking with each model one by one\n",
    "    for i in range(len(models)):\n",
    "        gmm = models[i]         \n",
    "        scores = np.array(gmm.score(vector))\n",
    "        print(scores)\n",
    "        log_likelihood[i] = scores.sum()\n",
    "\n",
    "    pred = np.argmax(log_likelihood)\n",
    "    identity = speakers[pred]\n",
    "    \n",
    "    print(\"Recognized as - \", identity)\n",
    "    print(speakers)\n",
    "    print(log_likelihood)\n",
    "    \n",
    "recognize()"
   ]
  }
 ],
 "metadata": {
  "kernelspec": {
   "display_name": "Python 3",
   "language": "python",
   "name": "python3"
  },
  "language_info": {
   "codemirror_mode": {
    "name": "ipython",
    "version": 3
   },
   "file_extension": ".py",
   "mimetype": "text/x-python",
   "name": "python",
   "nbconvert_exporter": "python",
   "pygments_lexer": "ipython3",
   "version": "3.12.4"
  }
 },
 "nbformat": 4,
 "nbformat_minor": 2
}
